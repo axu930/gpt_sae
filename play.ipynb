{
 "cells": [
  {
   "cell_type": "markdown",
   "metadata": {},
   "source": [
    "TODO:\n",
    "- Code up helper functions for steering\n",
    "- Code up helper functions for neuron reactivation\n",
    "- Code up visualization functs\n",
    "\n",
    "Down the line TODO:\n",
    "- Other AE architectures -- FSQAE, VAE/NVAE (?)\n",
    "- Other GPT models -- LLaMA, Mistral (need to tokenize fineweb with sentencepiece)\n",
    "- Does less context length give similar feature fidelity? "
   ]
  },
  {
   "cell_type": "code",
   "execution_count": null,
   "metadata": {},
   "outputs": [
    {
     "name": "stdout",
     "output_type": "stream",
     "text": [
      "loading weights from pretrained gpt: gpt2-medium\n",
      "GPT2 model finished loading\n"
     ]
    },
    {
     "data": {
      "text/plain": [
       "GPT(\n",
       "  (transformer): ModuleDict(\n",
       "    (wte): Embedding(50257, 1024)\n",
       "    (wpe): Embedding(1024, 1024)\n",
       "    (h): ModuleList(\n",
       "      (0-23): 24 x Block(\n",
       "        (ln_1): LayerNorm((1024,), eps=1e-05, elementwise_affine=True)\n",
       "        (attn): CausalSelfAttention(\n",
       "          (c_attn): Linear(in_features=1024, out_features=3072, bias=True)\n",
       "          (c_proj): Linear(in_features=1024, out_features=1024, bias=True)\n",
       "        )\n",
       "        (ln_2): LayerNorm((1024,), eps=1e-05, elementwise_affine=True)\n",
       "        (mlp): MLP(\n",
       "          (c_fc): Linear(in_features=1024, out_features=4096, bias=True)\n",
       "          (gelu): GELU(approximate='none')\n",
       "          (c_proj): Linear(in_features=4096, out_features=1024, bias=True)\n",
       "        )\n",
       "      )\n",
       "    )\n",
       "    (ln_f): LayerNorm((1024,), eps=1e-05, elementwise_affine=True)\n",
       "  )\n",
       "  (lm_head): Linear(in_features=1024, out_features=50257, bias=False)\n",
       ")"
      ]
     },
     "execution_count": 1,
     "metadata": {},
     "output_type": "execute_result"
    }
   ],
   "source": [
    "import os\n",
    "os.environ[\"PYTORCH_ENABLE_MPS_FALLBACK\"]=\"1\"\n",
    "\n",
    "import torch\n",
    "import torch.nn as nn\n",
    "import torch.nn.functional as F\n",
    "\n",
    "from SAE_model import *\n",
    "\n",
    "# -----\n",
    "\n",
    "#Load in base model\n",
    "\n",
    "\"\"\"\n",
    "GPT medium -- SAE is 32768\n",
    "GPT (small) -- SAE is 8192 (for simplicty)\n",
    "\"\"\"\n",
    "\n",
    "from gpt2_model import * \n",
    "\n",
    "model_name = 'gpt2'\n",
    "device = \"mps:0\"\n",
    "\n",
    "model = GPT.from_pretrained('gpt2-medium')\n",
    "model.to(device)\n",
    "\n",
    "#Freeze params, eval mode\n",
    "for name, param in model.named_parameters():\n",
    "    param.requires_grad = False\n",
    "model.eval()\n"
   ]
  },
  {
   "cell_type": "code",
   "execution_count": null,
   "metadata": {},
   "outputs": [
    {
     "name": "stderr",
     "output_type": "stream",
     "text": [
      "/var/folders/13/8p96hpz16tx9325nkkzrn29c0000gn/T/ipykernel_28145/815066745.py:12: FutureWarning: You are using `torch.load` with `weights_only=False` (the current default value), which uses the default pickle module implicitly. It is possible to construct malicious pickle data which will execute arbitrary code during unpickling (See https://github.com/pytorch/pytorch/blob/main/SECURITY.md#untrusted-models for more details). In a future release, the default value for `weights_only` will be flipped to `True`. This limits the functions that could be executed during unpickling. Arbitrary objects will no longer be allowed to be loaded via this mode unless they are explicitly allowlisted by the user via `torch.serialization.add_safe_globals`. We recommend you start setting `weights_only=True` for any use case where you don't have full control of the loaded file. Please open an issue on GitHub for any issues related to this experimental feature.\n",
      "  sae_model.load_state_dict(torch.load(weight_file, map_location=device))\n"
     ]
    }
   ],
   "source": [
    "#Load in SAE\n",
    "\n",
    "sae_model = SAE(GPT_medium_Config, hidden_dim=32768)\n",
    "sae_model.to(device)\n",
    "\n",
    "model_name = 'gpt2-medium'\n",
    "run_name = 'trial'\n",
    "weights_dir = os.path.join(os.path.abspath(''), 'weights')\n",
    "\n",
    "weight_file = os.path.join(weights_dir, f\"{model_name}_{run_name}.ckpt\")\n",
    "if os.path.exists(weight_file):\n",
    "    sae_model.load_state_dict(torch.load(weight_file, map_location=device))\n",
    "\n"
   ]
  },
  {
   "cell_type": "code",
   "execution_count": 3,
   "metadata": {},
   "outputs": [],
   "source": [
    "import tiktoken\n",
    "\n",
    "enc = tiktoken.get_encoding('gpt2')\n",
    "\n",
    "def get_top_sae_activations(text):\n",
    "    return NotImplementedError\n"
   ]
  },
  {
   "cell_type": "code",
   "execution_count": null,
   "metadata": {},
   "outputs": [],
   "source": [
    "def generate_text():\n",
    "    return NotImplementedError\n"
   ]
  },
  {
   "cell_type": "code",
   "execution_count": null,
   "metadata": {},
   "outputs": [],
   "source": [
    "def generate_text_with_steering():\n",
    "    return NotImplementedError\n"
   ]
  }
 ],
 "metadata": {
  "kernelspec": {
   "display_name": "base",
   "language": "python",
   "name": "python3"
  },
  "language_info": {
   "codemirror_mode": {
    "name": "ipython",
    "version": 3
   },
   "file_extension": ".py",
   "mimetype": "text/x-python",
   "name": "python",
   "nbconvert_exporter": "python",
   "pygments_lexer": "ipython3",
   "version": "3.12.5"
  }
 },
 "nbformat": 4,
 "nbformat_minor": 2
}
